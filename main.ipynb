{
  "nbformat": 4,
  "nbformat_minor": 0,
  "metadata": {
    "colab": {
      "provenance": []
    },
    "kernelspec": {
      "name": "python3",
      "display_name": "Python 3"
    },
    "language_info": {
      "name": "python"
    }
  },
  "cells": [
    {
      "cell_type": "markdown",
      "source": [
        "## imports"
      ],
      "metadata": {
        "id": "x8vOPZS6wOV0"
      }
    },
    {
      "cell_type": "code",
      "source": [
        "import pandas as pd\n",
        "from sklearn.model_selection import train_test_split, GridSearchCV\n",
        "from sklearn.preprocessing import StandardScaler\n",
        "from sklearn.linear_model import LogisticRegression, SGDClassifier\n",
        "from sklearn.metrics import accuracy_score, precision_score, recall_score, f1_score, roc_curve, auc, confusion_matrix, make_scorer\n",
        "import matplotlib.pyplot as plt\n",
        "import seaborn as sns\n",
        "from sklearn.ensemble import RandomForestClassifier\n",
        "import numpy as np\n",
        "from sklearn.model_selection import learning_curve\n",
        "from joblib import dump, load"
      ],
      "metadata": {
        "id": "Sc4rOGZSpROS"
      },
      "execution_count": 1,
      "outputs": []
    },
    {
      "cell_type": "markdown",
      "source": [
        "## preprocess, train and evaluate functions for base model\n"
      ],
      "metadata": {
        "id": "0fr3xVwywQhs"
      }
    },
    {
      "cell_type": "code",
      "source": [
        "# Load and preprocess the data\n",
        "def preprocess_data(file_path):\n",
        "    df = pd.read_csv(file_path)\n",
        "\n",
        "    # Dropping rows where 'Metric' column has NaN values\n",
        "    df = df.dropna(subset=['Metric'])\n",
        "\n",
        "    # Convert 'Metric' to binary class\n",
        "    df['Quality'] = df['Metric'].apply(lambda x: 1 if x >= 0.51 else 0)\n",
        "\n",
        "    # Selecting relevant features\n",
        "    X = df[['Sentence Count', 'Word Count', 'Similarity Score']]\n",
        "    y = df['Quality']\n",
        "\n",
        "    # Splitting the data into training and validation sets\n",
        "    X_train, X_val, y_train, y_val = train_test_split(X, y, test_size=0.2, random_state=42)\n",
        "\n",
        "    # Normalizing the features\n",
        "    scaler = StandardScaler()\n",
        "    X_train = scaler.fit_transform(X_train)\n",
        "    X_val = scaler.transform(X_val)\n",
        "\n",
        "    dump(scaler, 'scaler.joblib') # for adding new data later\n",
        "\n",
        "    return X_train, X_val, y_train, y_val\n",
        "\n",
        "# Train the model and evaluate it using random forest\n",
        "def train_and_evaluate_rf(X_train, X_val, y_train, y_val):\n",
        "    # Training the Random Forest Classifier\n",
        "    rf_model = RandomForestClassifier(random_state=42, warm_start=True) # warm_start for adding data later\n",
        "    rf_model.fit(X_train, y_train)\n",
        "\n",
        "    # Making predictions on the validation set\n",
        "    y_pred = rf_model.predict(X_val)\n",
        "    y_pred_proba = rf_model.predict_proba(X_val)[:, 1]\n",
        "\n",
        "    # Calculating performance metrics\n",
        "    accuracy = accuracy_score(y_val, y_pred)\n",
        "    precision = precision_score(y_val, y_pred)\n",
        "    recall = recall_score(y_val, y_pred)\n",
        "    f1 = f1_score(y_val, y_pred)\n",
        "    fpr, tpr, thresholds = roc_curve(y_val, y_pred_proba)\n",
        "    roc_auc = auc(fpr, tpr)\n",
        "\n",
        "    # Outputting the metrics\n",
        "    print(f\"Accuracy: {accuracy}\")\n",
        "    print(f\"Precision: {precision}\")\n",
        "    print(f\"Recall: {recall}\")\n",
        "    print(f\"F1 Score: {f1}\")\n",
        "\n",
        "    # Plotting ROC Curve\n",
        "    plt.figure(figsize=(8, 6))\n",
        "    plt.plot(fpr, tpr, color='blue', label=f'ROC curve (area = {roc_auc:.2f})')\n",
        "    plt.plot([0, 1], [0, 1], color='darkgrey', linestyle='--')\n",
        "    plt.xlabel('False Positive Rate')\n",
        "    plt.ylabel('True Positive Rate')\n",
        "    plt.title('Receiver Operating Characteristic (ROC) Curve')\n",
        "    plt.legend()\n",
        "    plt.show()\n",
        "\n",
        "    # Plotting Confusion Matrix\n",
        "    cm = confusion_matrix(y_val, y_pred)\n",
        "    plt.figure(figsize=(6, 6))\n",
        "    sns.heatmap(cm, annot=True, fmt='d', cmap='Blues')\n",
        "    plt.xlabel('Predicted')\n",
        "    plt.ylabel('True')\n",
        "    plt.title('Confusion Matrix')\n",
        "    plt.show()\n",
        "\n",
        "    dump(rf_model, 'rf_model.joblib')\n",
        "\n",
        "    return rf_model"
      ],
      "metadata": {
        "id": "BLkyPj1rpVpV"
      },
      "execution_count": 2,
      "outputs": []
    },
    {
      "cell_type": "markdown",
      "source": [
        "## training data path"
      ],
      "metadata": {
        "id": "jxeDYt0gxGpx"
      }
    },
    {
      "cell_type": "code",
      "source": [
        "file_path = 'data.csv'"
      ],
      "metadata": {
        "id": "TPYibt7RugIU"
      },
      "execution_count": 8,
      "outputs": []
    },
    {
      "cell_type": "markdown",
      "source": [
        "## train base model"
      ],
      "metadata": {
        "id": "GFvFkCTQwZjx"
      }
    },
    {
      "cell_type": "code",
      "execution_count": 9,
      "metadata": {
        "colab": {
          "base_uri": "https://localhost:8080/",
          "height": 1000
        },
        "id": "ZBt_Mdo7nqq8",
        "outputId": "e34ee21d-4eac-4276-8ab9-61da136dbe27"
      },
      "outputs": [
        {
          "output_type": "stream",
          "name": "stdout",
          "text": [
            "Accuracy: 0.9883268482490273\n",
            "Precision: 0.9831932773109243\n",
            "Recall: 0.9915254237288136\n",
            "F1 Score: 0.9873417721518987\n"
          ]
        },
        {
          "output_type": "display_data",
          "data": {
            "text/plain": [
              "<Figure size 800x600 with 1 Axes>"
            ],
            "image/png": "[encoded data removed]"
          },
          "metadata": {}
        },
        {
          "output_type": "display_data",
          "data": {
            "text/plain": [
              "<Figure size 600x600 with 2 Axes>"
            ],
            "image/png": "[encoded data removed]"
          },
          "metadata": {}
        },
        {
          "output_type": "execute_result",
          "data": {
            "text/plain": [
              "RandomForestClassifier(random_state=42, warm_start=True)"
            ],
            "text/html": [
              "<style>#sk-container-id-1 {color: black;background-color: white;}#sk-container-id-1 pre{padding: 0;}#sk-container-id-1 div.sk-toggleable {background-color: white;}#sk-container-id-1 label.sk-toggleable__label {cursor: pointer;display: block;width: 100%;margin-bottom: 0;padding: 0.3em;box-sizing: border-box;text-align: center;}#sk-container-id-1 label.sk-toggleable__label-arrow:before {content: \"▸\";float: left;margin-right: 0.25em;color: #696969;}#sk-container-id-1 label.sk-toggleable__label-arrow:hover:before {color: black;}#sk-container-id-1 div.sk-estimator:hover label.sk-toggleable__label-arrow:before {color: black;}#sk-container-id-1 div.sk-toggleable__content {max-height: 0;max-width: 0;overflow: hidden;text-align: left;background-color: #f0f8ff;}#sk-container-id-1 div.sk-toggleable__content pre {margin: 0.2em;color: black;border-radius: 0.25em;background-color: #f0f8ff;}#sk-container-id-1 input.sk-toggleable__control:checked~div.sk-toggleable__content {max-height: 200px;max-width: 100%;overflow: auto;}#sk-container-id-1 input.sk-toggleable__control:checked~label.sk-toggleable__label-arrow:before {content: \"▾\";}#sk-container-id-1 div.sk-estimator input.sk-toggleable__control:checked~label.sk-toggleable__label {background-color: #d4ebff;}#sk-container-id-1 div.sk-label input.sk-toggleable__control:checked~label.sk-toggleable__label {background-color: #d4ebff;}#sk-container-id-1 input.sk-hidden--visually {border: 0;clip: rect(1px 1px 1px 1px);clip: rect(1px, 1px, 1px, 1px);height: 1px;margin: -1px;overflow: hidden;padding: 0;position: absolute;width: 1px;}#sk-container-id-1 div.sk-estimator {font-family: monospace;background-color: #f0f8ff;border: 1px dotted black;border-radius: 0.25em;box-sizing: border-box;margin-bottom: 0.5em;}#sk-container-id-1 div.sk-estimator:hover {background-color: #d4ebff;}#sk-container-id-1 div.sk-parallel-item::after {content: \"\";width: 100%;border-bottom: 1px solid gray;flex-grow: 1;}#sk-container-id-1 div.sk-label:hover label.sk-toggleable__label {background-color: #d4ebff;}#sk-container-id-1 div.sk-serial::before {content: \"\";position: absolute;border-left: 1px solid gray;box-sizing: border-box;top: 0;bottom: 0;left: 50%;z-index: 0;}#sk-container-id-1 div.sk-serial {display: flex;flex-direction: column;align-items: center;background-color: white;padding-right: 0.2em;padding-left: 0.2em;position: relative;}#sk-container-id-1 div.sk-item {position: relative;z-index: 1;}#sk-container-id-1 div.sk-parallel {display: flex;align-items: stretch;justify-content: center;background-color: white;position: relative;}#sk-container-id-1 div.sk-item::before, #sk-container-id-1 div.sk-parallel-item::before {content: \"\";position: absolute;border-left: 1px solid gray;box-sizing: border-box;top: 0;bottom: 0;left: 50%;z-index: -1;}#sk-container-id-1 div.sk-parallel-item {display: flex;flex-direction: column;z-index: 1;position: relative;background-color: white;}#sk-container-id-1 div.sk-parallel-item:first-child::after {align-self: flex-end;width: 50%;}#sk-container-id-1 div.sk-parallel-item:last-child::after {align-self: flex-start;width: 50%;}#sk-container-id-1 div.sk-parallel-item:only-child::after {width: 0;}#sk-container-id-1 div.sk-dashed-wrapped {border: 1px dashed gray;margin: 0 0.4em 0.5em 0.4em;box-sizing: border-box;padding-bottom: 0.4em;background-color: white;}#sk-container-id-1 div.sk-label label {font-family: monospace;font-weight: bold;display: inline-block;line-height: 1.2em;}#sk-container-id-1 div.sk-label-container {text-align: center;}#sk-container-id-1 div.sk-container {/* jupyter's `normalize.less` sets `[hidden] { display: none; }` but bootstrap.min.css set `[hidden] { display: none !important; }` so we also need the `!important` here to be able to override the default hidden behavior on the sphinx rendered scikit-learn.org. See: https://github.com/scikit-learn/scikit-learn/issues/21755 */display: inline-block !important;position: relative;}#sk-container-id-1 div.sk-text-repr-fallback {display: none;}</style><div id=\"sk-container-id-1\" class=\"sk-top-container\"><div class=\"sk-text-repr-fallback\"><pre>RandomForestClassifier(random_state=42, warm_start=True)</pre><b>In a Jupyter environment, please rerun this cell to show the HTML representation or trust the notebook. <br />On GitHub, the HTML representation is unable to render, please try loading this page with nbviewer.org.</b></div><div class=\"sk-container\" hidden><div class=\"sk-item\"><div class=\"sk-estimator sk-toggleable\"><input class=\"sk-toggleable__control sk-hidden--visually\" id=\"sk-estimator-id-1\" type=\"checkbox\" checked><label for=\"sk-estimator-id-1\" class=\"sk-toggleable__label sk-toggleable__label-arrow\">RandomForestClassifier</label><div class=\"sk-toggleable__content\"><pre>RandomForestClassifier(random_state=42, warm_start=True)</pre></div></div></div></div></div>"
            ]
          },
          "metadata": {},
          "execution_count": 9
        }
      ],
      "source": [
        "# For Random Forest\n",
        "X_train, X_val, y_train, y_val = preprocess_data(file_path)\n",
        "train_and_evaluate_rf(X_train, X_val, y_train, y_val)"
      ]
    },
    {
      "cell_type": "markdown",
      "source": [
        "## inference with base model"
      ],
      "metadata": {
        "id": "PRRTVyeLwsPZ"
      }
    },
    {
      "cell_type": "code",
      "source": [
        "def preprocess_new_data(file_path, scaler):\n",
        "    # Load new data\n",
        "    df_new = pd.read_csv(file_path)\n",
        "\n",
        "    # Dropping rows where 'Metric' column has NaN values\n",
        "    df_new = df_new.dropna(subset=['Metric'])\n",
        "\n",
        "    # Convert 'Metric' to binary class\n",
        "    df_new['Quality'] = df_new['Metric'].apply(lambda x: 1 if x >= 0.51 else 0)\n",
        "\n",
        "    # Selecting relevant features\n",
        "    X_new = df_new[['Sentence Count', 'Word Count', 'Similarity Score']]\n",
        "    y_new = df_new['Quality']\n",
        "\n",
        "    # Normalizing the features using the scaler from the original data\n",
        "    X_new = scaler.transform(X_new)\n",
        "\n",
        "    return X_new, y_new\n",
        "\n",
        "def process_data_and_save_results(input_csv_filepath, model_filepath, scaler_filepath, output_csv_filepath):\n",
        "    # Load the RandomForest model and the scaler\n",
        "    rf_model = load(model_filepath)\n",
        "    scaler = load(scaler_filepath)\n",
        "\n",
        "    # Preprocess the new data\n",
        "    X_new_scaled, df = preprocess_new_data(input_csv_filepath, scaler)\n",
        "\n",
        "    # Make predictions with the scaled features\n",
        "    predictions = rf_model.predict(X_new_scaled)\n",
        "\n",
        "    # Add the predictions as a new column\n",
        "    df['Predictions'] = predictions\n",
        "\n",
        "    # Save the updated DataFrame to a new CSV file\n",
        "    df.to_csv(output_csv_filepath, index=False)"
      ],
      "metadata": {
        "id": "6sa5du0Gu6_J"
      },
      "execution_count": 10,
      "outputs": []
    },
    {
      "cell_type": "code",
      "source": [
        "process_data_and_save_results('features_test.csv', 'rf_model.joblib', 'scaler.joblib', 'inference_out.csv')"
      ],
      "metadata": {
        "id": "lnZuYsSf0Ymg"
      },
      "execution_count": 11,
      "outputs": []
    },
    {
      "cell_type": "markdown",
      "source": [
        "## preprocess, update functions for new data"
      ],
      "metadata": {
        "id": "2pxePcfyw02a"
      }
    },
    {
      "cell_type": "code",
      "source": [
        "def preprocess_new_data(file_path, scaler):\n",
        "    # Load new data\n",
        "    df_new = pd.read_csv(file_path)\n",
        "\n",
        "    # Dropping rows where 'Metric' column has NaN values\n",
        "    df_new = df_new.dropna(subset=['Metric'])\n",
        "\n",
        "    # Convert 'Metric' to binary class\n",
        "    df_new['Quality'] = df_new['Metric'].apply(lambda x: 1 if x >= 0.51 else 0)\n",
        "\n",
        "    # Selecting relevant features\n",
        "    X_new = df_new[['Sentence Count', 'Word Count', 'Similarity Score']]\n",
        "    y_new = df_new['Quality']\n",
        "\n",
        "    # Normalizing the features using the scaler from the original data\n",
        "    X_new = scaler.transform(X_new)\n",
        "\n",
        "    return X_new, y_new\n",
        "\n",
        "def update_model_with_new_data(model_path, new_data_path, scalar):\n",
        "    # Load the existing model\n",
        "    existing_model = load(model_path)\n",
        "    existing_model.n_estimators += 1\n",
        "\n",
        "    # Load and preprocess new data\n",
        "    new_X, new_y = preprocess_new_data(new_data_path, scalar)\n",
        "\n",
        "    # Update the model with new data\n",
        "    existing_model.fit(new_X, new_y)\n",
        "\n",
        "    # Save the updated model\n",
        "    dump(existing_model, 'rf_model_updated.joblib')\n",
        "    return existing_model"
      ],
      "metadata": {
        "id": "AIMZKBOGjBa1"
      },
      "execution_count": 12,
      "outputs": []
    },
    {
      "cell_type": "markdown",
      "source": [
        "## update model with new data"
      ],
      "metadata": {
        "id": "-L-ZAhNOw6oQ"
      }
    },
    {
      "cell_type": "code",
      "source": [
        "scaler = load('scaler.joblib')\n",
        "update_model_with_new_data(\"./rf_model.joblib\", \"./test.csv\", scaler)"
      ],
      "metadata": {
        "colab": {
          "base_uri": "https://localhost:8080/",
          "height": 74
        },
        "id": "SzH9Rys9ky7c",
        "outputId": "d4269335-107e-462c-9dc2-a78213e812d7"
      },
      "execution_count": 15,
      "outputs": [
        {
          "output_type": "execute_result",
          "data": {
            "text/plain": [
              "RandomForestClassifier(n_estimators=101, random_state=42, warm_start=True)"
            ],
            "text/html": [
              "<style>#sk-container-id-2 {color: black;background-color: white;}#sk-container-id-2 pre{padding: 0;}#sk-container-id-2 div.sk-toggleable {background-color: white;}#sk-container-id-2 label.sk-toggleable__label {cursor: pointer;display: block;width: 100%;margin-bottom: 0;padding: 0.3em;box-sizing: border-box;text-align: center;}#sk-container-id-2 label.sk-toggleable__label-arrow:before {content: \"▸\";float: left;margin-right: 0.25em;color: #696969;}#sk-container-id-2 label.sk-toggleable__label-arrow:hover:before {color: black;}#sk-container-id-2 div.sk-estimator:hover label.sk-toggleable__label-arrow:before {color: black;}#sk-container-id-2 div.sk-toggleable__content {max-height: 0;max-width: 0;overflow: hidden;text-align: left;background-color: #f0f8ff;}#sk-container-id-2 div.sk-toggleable__content pre {margin: 0.2em;color: black;border-radius: 0.25em;background-color: #f0f8ff;}#sk-container-id-2 input.sk-toggleable__control:checked~div.sk-toggleable__content {max-height: 200px;max-width: 100%;overflow: auto;}#sk-container-id-2 input.sk-toggleable__control:checked~label.sk-toggleable__label-arrow:before {content: \"▾\";}#sk-container-id-2 div.sk-estimator input.sk-toggleable__control:checked~label.sk-toggleable__label {background-color: #d4ebff;}#sk-container-id-2 div.sk-label input.sk-toggleable__control:checked~label.sk-toggleable__label {background-color: #d4ebff;}#sk-container-id-2 input.sk-hidden--visually {border: 0;clip: rect(1px 1px 1px 1px);clip: rect(1px, 1px, 1px, 1px);height: 1px;margin: -1px;overflow: hidden;padding: 0;position: absolute;width: 1px;}#sk-container-id-2 div.sk-estimator {font-family: monospace;background-color: #f0f8ff;border: 1px dotted black;border-radius: 0.25em;box-sizing: border-box;margin-bottom: 0.5em;}#sk-container-id-2 div.sk-estimator:hover {background-color: #d4ebff;}#sk-container-id-2 div.sk-parallel-item::after {content: \"\";width: 100%;border-bottom: 1px solid gray;flex-grow: 1;}#sk-container-id-2 div.sk-label:hover label.sk-toggleable__label {background-color: #d4ebff;}#sk-container-id-2 div.sk-serial::before {content: \"\";position: absolute;border-left: 1px solid gray;box-sizing: border-box;top: 0;bottom: 0;left: 50%;z-index: 0;}#sk-container-id-2 div.sk-serial {display: flex;flex-direction: column;align-items: center;background-color: white;padding-right: 0.2em;padding-left: 0.2em;position: relative;}#sk-container-id-2 div.sk-item {position: relative;z-index: 1;}#sk-container-id-2 div.sk-parallel {display: flex;align-items: stretch;justify-content: center;background-color: white;position: relative;}#sk-container-id-2 div.sk-item::before, #sk-container-id-2 div.sk-parallel-item::before {content: \"\";position: absolute;border-left: 1px solid gray;box-sizing: border-box;top: 0;bottom: 0;left: 50%;z-index: -1;}#sk-container-id-2 div.sk-parallel-item {display: flex;flex-direction: column;z-index: 1;position: relative;background-color: white;}#sk-container-id-2 div.sk-parallel-item:first-child::after {align-self: flex-end;width: 50%;}#sk-container-id-2 div.sk-parallel-item:last-child::after {align-self: flex-start;width: 50%;}#sk-container-id-2 div.sk-parallel-item:only-child::after {width: 0;}#sk-container-id-2 div.sk-dashed-wrapped {border: 1px dashed gray;margin: 0 0.4em 0.5em 0.4em;box-sizing: border-box;padding-bottom: 0.4em;background-color: white;}#sk-container-id-2 div.sk-label label {font-family: monospace;font-weight: bold;display: inline-block;line-height: 1.2em;}#sk-container-id-2 div.sk-label-container {text-align: center;}#sk-container-id-2 div.sk-container {/* jupyter's `normalize.less` sets `[hidden] { display: none; }` but bootstrap.min.css set `[hidden] { display: none !important; }` so we also need the `!important` here to be able to override the default hidden behavior on the sphinx rendered scikit-learn.org. See: https://github.com/scikit-learn/scikit-learn/issues/21755 */display: inline-block !important;position: relative;}#sk-container-id-2 div.sk-text-repr-fallback {display: none;}</style><div id=\"sk-container-id-2\" class=\"sk-top-container\"><div class=\"sk-text-repr-fallback\"><pre>RandomForestClassifier(n_estimators=101, random_state=42, warm_start=True)</pre><b>In a Jupyter environment, please rerun this cell to show the HTML representation or trust the notebook. <br />On GitHub, the HTML representation is unable to render, please try loading this page with nbviewer.org.</b></div><div class=\"sk-container\" hidden><div class=\"sk-item\"><div class=\"sk-estimator sk-toggleable\"><input class=\"sk-toggleable__control sk-hidden--visually\" id=\"sk-estimator-id-2\" type=\"checkbox\" checked><label for=\"sk-estimator-id-2\" class=\"sk-toggleable__label sk-toggleable__label-arrow\">RandomForestClassifier</label><div class=\"sk-toggleable__content\"><pre>RandomForestClassifier(n_estimators=101, random_state=42, warm_start=True)</pre></div></div></div></div></div>"
            ]
          },
          "metadata": {},
          "execution_count": 15
        }
      ]
    },
    {
      "cell_type": "markdown",
      "source": [
        "## tune precision and recall"
      ],
      "metadata": {
        "id": "Uaa7WtHpw8kx"
      }
    },
    {
      "cell_type": "code",
      "source": [
        "def tune_classifier_for_precision_recall(X_train, y_train):\n",
        "    param_grid = {\n",
        "        'n_estimators': [100, 200, 300],\n",
        "        'max_depth': [10, 20, 30, None],\n",
        "        # Add more parameters if needed\n",
        "    }\n",
        "\n",
        "    rf = RandomForestClassifier(random_state=42)\n",
        "\n",
        "    scoring = {'f1': make_scorer(f1_score),\n",
        "               'precision': make_scorer(precision_score),\n",
        "               'recall': make_scorer(recall_score)}\n",
        "\n",
        "    grid_search = GridSearchCV(estimator=rf, param_grid=param_grid, scoring=scoring, cv=5, refit='f1', return_train_score=True)\n",
        "    grid_search.fit(X_train, y_train)\n",
        "\n",
        "    results = grid_search.cv_results_\n",
        "    for i in range(len(results[\"params\"])):\n",
        "        print(f\"Params: {results['params'][i]}\")\n",
        "        print(f\"  Mean Precision: {results['mean_test_precision'][i]}\")\n",
        "        print(f\"  Mean Recall: {results['mean_test_recall'][i]}\")\n",
        "        print(f\"  Mean F1 Score: {results['mean_test_f1'][i]}\")\n",
        "        print(\"------\")\n",
        "\n",
        "    # Printing the best parameters and the best F1 score\n",
        "    print(f\"Best parameters for highest F1 score: {grid_search.best_params_}\")\n",
        "    print(f\"Highest F1 score: {grid_search.best_score_}\")\n",
        "\n",
        "    return grid_search.best_estimator_"
      ],
      "metadata": {
        "id": "WFk0RR-Oovkr"
      },
      "execution_count": 16,
      "outputs": []
    },
    {
      "cell_type": "code",
      "source": [
        "best_rf_model = tune_classifier_for_precision_recall(X_train, y_train)"
      ],
      "metadata": {
        "colab": {
          "base_uri": "https://localhost:8080/"
        },
        "id": "J_f3Sp-HoxLV",
        "outputId": "7689277f-62f6-46f7-9c37-e4fed3428b66"
      },
      "execution_count": 17,
      "outputs": [
        {
          "output_type": "stream",
          "name": "stdout",
          "text": [
            "Params: {'max_depth': 10, 'n_estimators': 100}\n",
            "  Mean Precision: 0.9829759612625845\n",
            "  Mean Recall: 0.9838709677419356\n",
            "  Mean F1 Score: 0.9833564978539282\n",
            "------\n",
            "Params: {'max_depth': 10, 'n_estimators': 200}\n",
            "  Mean Precision: 0.983989100364812\n",
            "  Mean Recall: 0.9827956989247312\n",
            "  Mean F1 Score: 0.9833245495217694\n",
            "------\n",
            "Params: {'max_depth': 10, 'n_estimators': 300}\n",
            "  Mean Precision: 0.9840450301730851\n",
            "  Mean Recall: 0.9838709677419356\n",
            "  Mean F1 Score: 0.9838748804523174\n",
            "------\n",
            "Params: {'max_depth': 20, 'n_estimators': 100}\n",
            "  Mean Precision: 0.9808264442846211\n",
            "  Mean Recall: 0.9827956989247312\n",
            "  Mean F1 Score: 0.9817509695030017\n",
            "------\n",
            "Params: {'max_depth': 20, 'n_estimators': 200}\n",
            "  Mean Precision: 0.983989100364812\n",
            "  Mean Recall: 0.9827956989247312\n",
            "  Mean F1 Score: 0.9833245495217694\n",
            "------\n",
            "Params: {'max_depth': 20, 'n_estimators': 300}\n",
            "  Mean Precision: 0.9829253317488611\n",
            "  Mean Recall: 0.9827956989247312\n",
            "  Mean F1 Score: 0.9827912392505018\n",
            "------\n",
            "Params: {'max_depth': 30, 'n_estimators': 100}\n",
            "  Mean Precision: 0.9808264442846211\n",
            "  Mean Recall: 0.9827956989247312\n",
            "  Mean F1 Score: 0.9817509695030017\n",
            "------\n",
            "Params: {'max_depth': 30, 'n_estimators': 200}\n",
            "  Mean Precision: 0.983989100364812\n",
            "  Mean Recall: 0.9827956989247312\n",
            "  Mean F1 Score: 0.9833245495217694\n",
            "------\n",
            "Params: {'max_depth': 30, 'n_estimators': 300}\n",
            "  Mean Precision: 0.9829253317488611\n",
            "  Mean Recall: 0.9827956989247312\n",
            "  Mean F1 Score: 0.9827912392505018\n",
            "------\n",
            "Params: {'max_depth': None, 'n_estimators': 100}\n",
            "  Mean Precision: 0.9808264442846211\n",
            "  Mean Recall: 0.9827956989247312\n",
            "  Mean F1 Score: 0.9817509695030017\n",
            "------\n",
            "Params: {'max_depth': None, 'n_estimators': 200}\n",
            "  Mean Precision: 0.983989100364812\n",
            "  Mean Recall: 0.9827956989247312\n",
            "  Mean F1 Score: 0.9833245495217694\n",
            "------\n",
            "Params: {'max_depth': None, 'n_estimators': 300}\n",
            "  Mean Precision: 0.9829253317488611\n",
            "  Mean Recall: 0.9827956989247312\n",
            "  Mean F1 Score: 0.9827912392505018\n",
            "------\n",
            "Best parameters for highest F1 score: {'max_depth': 10, 'n_estimators': 300}\n",
            "Highest F1 score: 0.9838748804523174\n"
          ]
        }
      ]
    }
  ]
}