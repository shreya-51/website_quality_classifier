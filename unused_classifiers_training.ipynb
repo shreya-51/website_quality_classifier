{
  "cells": [
    {
      "cell_type": "code",
      "execution_count": null,
      "metadata": {
        "id": "Sc4rOGZSpROS"
      },
      "outputs": [],
      "source": [
        "import pandas as pd\n",
        "from sklearn.model_selection import train_test_split\n",
        "from sklearn.preprocessing import StandardScaler\n",
        "from sklearn.linear_model import LogisticRegression, SGDClassifier\n",
        "from sklearn.metrics import accuracy_score, precision_score, recall_score, f1_score, roc_curve, auc, confusion_matrix\n",
        "import matplotlib.pyplot as plt\n",
        "import seaborn as sns\n",
        "from sklearn.ensemble import RandomForestClassifier\n",
        "import numpy as np\n",
        "from sklearn.model_selection import learning_curve\n",
        "from joblib import dump, load\n",
        "import tensorflow as tf"
      ]
    },
    {
      "cell_type": "code",
      "execution_count": null,
      "metadata": {
        "id": "BLkyPj1rpVpV"
      },
      "outputs": [],
      "source": [
        "# Load and preprocess the data\n",
        "def preprocess_data(file_path):\n",
        "    df = pd.read_csv(file_path)\n",
        "\n",
        "    # Dropping rows where 'Metric' column has NaN values\n",
        "    df = df.dropna(subset=['Metric'])\n",
        "\n",
        "    # Convert 'Metric' to binary class\n",
        "    df['Quality'] = df['Metric'].apply(lambda x: 1 if x >= 0.51 else 0)\n",
        "\n",
        "    # Selecting relevant features\n",
        "    X = df[['Sentence Count', 'Word Count', 'Similarity Score']]\n",
        "    y = df['Quality']\n",
        "\n",
        "    # Splitting the data into training and validation sets\n",
        "    X_train, X_val, y_train, y_val = train_test_split(X, y, test_size=0.2, random_state=42)\n",
        "\n",
        "    # Normalizing the features\n",
        "    scaler = StandardScaler()\n",
        "    X_train = scaler.fit_transform(X_train)\n",
        "    X_val = scaler.transform(X_val)\n",
        "\n",
        "    dump(scaler, 'scaler.joblib') # for adding new data later\n",
        "\n",
        "    return X_train, X_val, y_train, y_val\n",
        "\n",
        "# Train the model and evaluate it using logistic regression\n",
        "def train_and_evaluate(X_train, X_val, y_train, y_val):\n",
        "    # Training the Logistic Regression model\n",
        "    model = LogisticRegression()\n",
        "    model.fit(X_train, y_train)\n",
        "\n",
        "    # Making predictions\n",
        "    y_pred = model.predict(X_val)\n",
        "    y_pred_proba = model.predict_proba(X_val)[:, 1]\n",
        "\n",
        "    # Calculating metrics\n",
        "    accuracy = accuracy_score(y_val, y_pred)\n",
        "    precision = precision_score(y_val, y_pred)\n",
        "    recall = recall_score(y_val, y_pred)\n",
        "    f1 = f1_score(y_val, y_pred)\n",
        "    fpr, tpr, thresholds = roc_curve(y_val, y_pred_proba)\n",
        "    roc_auc = auc(fpr, tpr)\n",
        "\n",
        "    # Output metrics\n",
        "    print(f\"Accuracy: {accuracy}\")\n",
        "    print(f\"Precision: {precision}\")\n",
        "    print(f\"Recall: {recall}\")\n",
        "    print(f\"F1 Score: {f1}\")\n",
        "\n",
        "    # Plotting ROC Curve\n",
        "    plt.figure(figsize=(8, 6))\n",
        "    plt.plot(fpr, tpr, color='blue', label=f'ROC curve (area = {roc_auc:.2f})')\n",
        "    plt.plot([0, 1], [0, 1], color='darkgrey', linestyle='--')\n",
        "    plt.xlabel('False Positive Rate')\n",
        "    plt.ylabel('True Positive Rate')\n",
        "    plt.title('Receiver Operating Characteristic (ROC) Curve')\n",
        "    plt.legend()\n",
        "    plt.show()\n",
        "\n",
        "    # Plotting Confusion Matrix\n",
        "    cm = confusion_matrix(y_val, y_pred)\n",
        "    plt.figure(figsize=(6, 6))\n",
        "    sns.heatmap(cm, annot=True, fmt='d', cmap='Blues')\n",
        "    plt.xlabel('Predicted')\n",
        "    plt.ylabel('True')\n",
        "    plt.title('Confusion Matrix')\n",
        "    plt.show()\n",
        "\n",
        "    dump(model, 'logistic_model.joblib')\n",
        "\n",
        "# Train the model and evaluate it using SGDClassifier\n",
        "def train_and_evaluate_sgd(X_train, y_train, X_val, y_val, classes, epochs=1):\n",
        "    \"\"\"\n",
        "    Train and evaluate the SGDClassifier.\n",
        "\n",
        "    Parameters:\n",
        "    - X_train, y_train: Training features and labels.\n",
        "    - X_val, y_val: Validation features and labels.\n",
        "    - classes: Array of unique classes.\n",
        "    - epochs: Number of passes over the training data.\n",
        "    \"\"\"\n",
        "    # Check if the number of samples in X_train and y_train are the same\n",
        "    if X_train.shape[0] != y_train.shape[0]:\n",
        "        raise ValueError(\"The number of samples in X_train and y_train must be the same.\")\n",
        "\n",
        "    # Initialize the SGDClassifier\n",
        "    sgd_model = SGDClassifier()\n",
        "\n",
        "    # Training the model incrementally\n",
        "    for epoch in range(epochs):\n",
        "        sgd_model.partial_fit(X_train, y_train, classes=classes)\n",
        "\n",
        "    # Making predictions on the validation set\n",
        "    y_pred = sgd_model.predict(X_val)\n",
        "\n",
        "    # Evaluating the model\n",
        "    accuracy = accuracy_score(y_val, y_pred)\n",
        "    precision = precision_score(y_val, y_pred, average='weighted')\n",
        "    recall = recall_score(y_val, y_pred, average='weighted')\n",
        "    f1 = f1_score(y_val, y_pred, average='weighted')\n",
        "\n",
        "    # Output the metrics\n",
        "    print(f\"Epoch {epoch+1}: Accuracy: {accuracy}, Precision: {precision}, Recall: {recall}, F1 Score: {f1}\")\n",
        "\n",
        "    # Save the model\n",
        "    dump(sgd_model, 'sgd_model.joblib')\n",
        "\n",
        "    return sgd_model\n",
        "\n",
        "# Train the model and evaluate it using neural network\n",
        "def train_and_evaluate_nn(X_train, y_train, X_val, y_val, epochs=10, batch_size=32):\n",
        "    # Define the neural network architecture\n",
        "    model = tf.keras.models.Sequential([\n",
        "        tf.keras.layers.Dense(32, activation='relu'),\n",
        "    ]) # various models tried\n",
        "\n",
        "    # Compile the model\n",
        "    model.compile(optimizer='adam', loss='binary_crossentropy', metrics=['accuracy'])\n",
        "\n",
        "    # Train the model\n",
        "    model.fit(X_train, y_train, epochs=epochs, batch_size=batch_size, verbose=1)\n",
        "\n",
        "    print(model.summary())\n",
        "\n",
        "    # Evaluate the model\n",
        "    y_pred_prob = model.predict(X_val)\n",
        "    y_pred = (y_pred_prob > 0.51).astype(\"int32\")\n",
        "\n",
        "    # Calculate metrics\n",
        "    accuracy = accuracy_score(y_val, y_pred)\n",
        "    precision = precision_score(y_val, y_pred)\n",
        "    recall = recall_score(y_val, y_pred)\n",
        "    f1 = f1_score(y_val, y_pred)\n",
        "\n",
        "    # Print metrics\n",
        "    print(f\"Accuracy: {accuracy}, Precision: {precision}, Recall: {recall}, F1 Score: {f1}\")\n",
        "\n",
        "    # Save the model\n",
        "    model.save('nn_model.h5')\n",
        "\n",
        "    return model\n"
      ]
    },
    {
      "cell_type": "code",
      "execution_count": null,
      "metadata": {
        "id": "TPYibt7RugIU"
      },
      "outputs": [],
      "source": [
        "file_path = 'data.csv'"
      ]
    },
    {
      "cell_type": "code",
      "execution_count": null,
      "metadata": {
        "id": "Bx37MivMujMJ"
      },
      "outputs": [],
      "source": [
        "# For Logistic Regression\n",
        "X_train, X_val, y_train, y_val = preprocess_data(file_path)\n",
        "train_and_evaluate(X_train, X_val, y_train, y_val)"
      ]
    },
    {
      "cell_type": "code",
      "execution_count": null,
      "metadata": {
        "id": "ZBt_Mdo7nqq8"
      },
      "outputs": [],
      "source": [
        "# For Random Forest\n",
        "X_train, X_val, y_train, y_val = preprocess_data(file_path)\n",
        "train_and_evaluate_rf(X_train, X_val, y_train, y_val)"
      ]
    },
    {
      "cell_type": "code",
      "execution_count": null,
      "metadata": {
        "id": "g5OsGCRfGPZn"
      },
      "outputs": [],
      "source": [
        "# For SGDClassifier\n",
        "X_train, X_val, y_train, y_val = preprocess_data(file_path)\n",
        "train_and_evaluate_sgd(X_train, y_train, X_val, y_val, classes=np.array([0, 1]), epochs=42)"
      ]
    },
    {
      "cell_type": "code",
      "execution_count": null,
      "metadata": {
        "id": "2vEYtQR5MFKF"
      },
      "outputs": [],
      "source": [
        "# For neural network:\n",
        "X_train, X_val, y_train, y_val = preprocess_data(file_path)\n",
        "nn_model = train_and_evaluate_nn(X_train, y_train, X_val, y_val, epochs=1, batch_size=32)"
      ]
    }
  ],
  "metadata": {
    "colab": {
      "provenance": [],
      "toc_visible": true
    },
    "kernelspec": {
      "display_name": "Python 3",
      "name": "python3"
    },
    "language_info": {
      "name": "python"
    }
  },
  "nbformat": 4,
  "nbformat_minor": 0
}
